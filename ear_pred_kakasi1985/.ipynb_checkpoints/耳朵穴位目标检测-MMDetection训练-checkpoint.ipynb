{
 "cells": [
  {
   "cell_type": "markdown",
   "id": "283db6c5-7f78-4a9b-8212-f61269bd9a2d",
   "metadata": {},
   "source": [
    "# 耳朵穴位目标检测-MMDetection训练\n",
    "\n",
    "白云 2023-6-4"
   ]
  },
  {
   "cell_type": "markdown",
   "id": "ff24ce0c-d715-4864-992f-c44e3d69ba25",
   "metadata": {},
   "source": [
    "## 进入mmdetection主目录"
   ]
  },
  {
   "cell_type": "code",
   "execution_count": 1,
   "id": "0ec62b16-80ce-41eb-8c78-9c6d374bb961",
   "metadata": {},
   "outputs": [],
   "source": [
    "import os\n",
    "os.chdir('mmdetection')"
   ]
  },
  {
   "cell_type": "markdown",
   "id": "6c338d79-bff4-426d-8b05-19fcaddbafb5",
   "metadata": {
    "tags": []
   },
   "source": [
    "## 目标检测算法：RTMDet"
   ]
  },
  {
   "cell_type": "code",
   "execution_count": null,
   "id": "ef42087d-8ff3-433e-a06d-3bdeff6614d7",
   "metadata": {},
   "outputs": [],
   "source": [
    "# 建议在命令行中运行\n",
    "!python tools/train.py data/rtmdet_tiny_ear.py"
   ]
  },
  {
   "cell_type": "markdown",
   "id": "7c109d6d-fe41-4097-8cf4-a968bea7a004",
   "metadata": {},
   "source": [
    "## 在`work_dirs`目录下，查看训练日志和训练得到的模型权重文件"
   ]
  },
  {
   "cell_type": "markdown",
   "id": "fdd2779d-859f-4121-b013-c37e048f196c",
   "metadata": {},
   "source": [
    "## 测试集上评估模型精度"
   ]
  },
  {
   "cell_type": "code",
   "execution_count": 7,
   "id": "08f57375-15fd-4a7d-9b1c-71ae1e2a5647",
   "metadata": {},
   "outputs": [],
   "source": [
    "!python tools/test.py data/rtmdet_tiny_ear.py \\\n",
    "                      work_dirs/rtmdet_tiny_triangle/epoch_200.pth"
   ]
  }
 ],
 "metadata": {
  "kernelspec": {
   "display_name": "Python 3 (ipykernel)",
   "language": "python",
   "name": "python3"
  },
  "language_info": {
   "codemirror_mode": {
    "name": "ipython",
    "version": 3
   },
   "file_extension": ".py",
   "mimetype": "text/x-python",
   "name": "python",
   "nbconvert_exporter": "python",
   "pygments_lexer": "ipython3",
   "version": "3.8.10"
  }
 },
 "nbformat": 4,
 "nbformat_minor": 5
}
