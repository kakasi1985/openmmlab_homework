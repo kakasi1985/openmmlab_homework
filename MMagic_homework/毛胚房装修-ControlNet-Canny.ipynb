{
 "cells": [
  {
   "cell_type": "markdown",
   "id": "7ddcd4d0-751c-4d15-8dd6-f78451e3b277",
   "metadata": {},
   "source": [
    "## 进入 MMagic 主目录"
   ]
  },
  {
   "cell_type": "code",
   "execution_count": 1,
   "id": "6704ea2e-c92e-40f5-b232-bba20933ee4b",
   "metadata": {},
   "outputs": [],
   "source": [
    "import os\n",
    "os.chdir('mmagic')"
   ]
  },
  {
   "cell_type": "markdown",
   "id": "28b27bfb-7999-4a4d-ac55-c7dca45e2891",
   "metadata": {
    "tags": []
   },
   "source": [
    "## 导入工具包"
   ]
  },
  {
   "cell_type": "code",
   "execution_count": 2,
   "id": "d44ada10-8280-4a5f-9078-27d3e52569e6",
   "metadata": {},
   "outputs": [],
   "source": [
    "import cv2\n",
    "import numpy as np\n",
    "import mmcv\n",
    "from mmengine import Config\n",
    "from PIL import Image\n",
    "\n",
    "from mmagic.registry import MODELS\n",
    "from mmagic.utils import register_all_modules\n",
    "\n",
    "register_all_modules()"
   ]
  },
  {
   "cell_type": "markdown",
   "id": "dc63be20-13be-4f0c-b7e7-5cc81c2d75a3",
   "metadata": {
    "tags": []
   },
   "source": [
    "## 毛胚房图片转Canny 边缘检测图——为了测试生成边缘的效果"
   ]
  },
  {
   "cell_type": "code",
   "execution_count": 30,
   "id": "334c948b-4add-46f4-9314-dc87643211fb",
   "metadata": {},
   "outputs": [
    {
     "data": {
      "text/plain": [
       "True"
      ]
     },
     "execution_count": 30,
     "metadata": {},
     "output_type": "execute_result"
    }
   ],
   "source": [
    "img = cv2.imread(\"data/maopei/maopei3.jpg\")\n",
    " # 高斯模糊  降低噪声\n",
    "blurred = cv2.GaussianBlur(img, (5, 5), 0)\n",
    "# 转为灰度图像\n",
    "gray = cv2.cvtColor(blurred, cv2.COLOR_BGR2GRAY)\n",
    "# 计算x y 方向梯度\n",
    "grad_x = cv2.Sobel(gray, cv2.CV_16SC1, 1, 0)\n",
    "grad_y = cv2.Sobel(gray, cv2.CV_16SC1, 0, 1)\n",
    "\n",
    " \n",
    "cv2.imwrite(\"data/maopei/maopei3_canny.jpeg\", cv2.Canny(grad_x,grad_y, 60,120))\n",
    " "
   ]
  },
  {
   "cell_type": "markdown",
   "id": "172e605e-3bdc-4fb2-88cc-b1a010b41829",
   "metadata": {},
   "source": [
    "## 载入ControlNet模型"
   ]
  },
  {
   "cell_type": "code",
   "execution_count": 10,
   "id": "7badbbf5-1204-44c3-acca-58ef2bed0a2a",
   "metadata": {},
   "outputs": [
    {
     "name": "stderr",
     "output_type": "stream",
     "text": [
      "Cannot initialize model with low cpu memory usage because `accelerate` was not found in the environment. Defaulting to `low_cpu_mem_usage=False`. It is strongly recommended to install `accelerate` for faster and less memory-intense model loading. You can do so with: \n",
      "```\n",
      "pip install accelerate\n",
      "```\n",
      ".\n"
     ]
    },
    {
     "name": "stdout",
     "output_type": "stream",
     "text": [
      "06/17 22:24:27 - mmengine - INFO - Set model dtype to 'torch.float32'.\n"
     ]
    },
    {
     "name": "stderr",
     "output_type": "stream",
     "text": [
      "Cannot initialize model with low cpu memory usage because `accelerate` was not found in the environment. Defaulting to `low_cpu_mem_usage=False`. It is strongly recommended to install `accelerate` for faster and less memory-intense model loading. You can do so with: \n",
      "```\n",
      "pip install accelerate\n",
      "```\n",
      ".\n"
     ]
    },
    {
     "name": "stdout",
     "output_type": "stream",
     "text": [
      "06/17 22:24:55 - mmengine - INFO - Creating runwayml/stable-diffusion-v1-5 by 'HuggingFace'\n"
     ]
    },
    {
     "name": "stderr",
     "output_type": "stream",
     "text": [
      "Cannot initialize model with low cpu memory usage because `accelerate` was not found in the environment. Defaulting to `low_cpu_mem_usage=False`. It is strongly recommended to install `accelerate` for faster and less memory-intense model loading. You can do so with: \n",
      "```\n",
      "pip install accelerate\n",
      "```\n",
      ".\n"
     ]
    },
    {
     "name": "stdout",
     "output_type": "stream",
     "text": [
      "Do not support Xformers. Please install Xformers first. The program will run without Xformers.\n"
     ]
    },
    {
     "data": {
      "application/vnd.jupyter.widget-view+json": {
       "model_id": "bc2a40a7b33d4569937360f7c6a890ac",
       "version_major": 2,
       "version_minor": 0
      },
      "text/plain": [
       "Downloading (…)lve/main/config.json:   0%|          | 0.00/920 [00:00<?, ?B/s]"
      ]
     },
     "metadata": {},
     "output_type": "display_data"
    },
    {
     "name": "stdout",
     "output_type": "stream",
     "text": [
      "06/17 22:24:59 - mmengine - INFO - Set model dtype to 'torch.float32'.\n",
      "Do not support Xformers. Please install Xformers first. The program will run without Xformers.\n"
     ]
    }
   ],
   "source": [
    "cfg = Config.fromfile('configs/controlnet/controlnet-canny.py')\n",
    "controlnet = MODELS.build(cfg.model).cuda()"
   ]
  },
  {
   "cell_type": "markdown",
   "id": "07fe2ec4-30a3-422d-ba43-b004c14f2a44",
   "metadata": {},
   "source": [
    "## 输入Canny边缘图"
   ]
  },
  {
   "cell_type": "code",
   "execution_count": 46,
   "id": "ae14828d-a657-468b-b978-795679e1b76b",
   "metadata": {},
   "outputs": [],
   "source": [
    "control_url = 'data/maopei/maopei3.jpg'\n",
    "control_img = mmcv.imread(control_url)\n",
    "# 高斯模糊  降低噪声\n",
    "blurred = cv2.GaussianBlur(control_img, (5, 5), 0)\n",
    "# 转为灰度图像\n",
    "gray = cv2.cvtColor(blurred, cv2.COLOR_BGR2GRAY)\n",
    "# 计算x y 方向梯度\n",
    "grad_x = cv2.Sobel(gray, cv2.CV_16SC1, 1, 0)\n",
    "grad_y = cv2.Sobel(gray, cv2.CV_16SC1, 0, 1)\n",
    "control = cv2.Canny(grad_x,grad_y,60,120)\n",
    "control = control[:, :, None]\n",
    "control = np.concatenate([control] * 3, axis=2)\n",
    "control = Image.fromarray(control)"
   ]
  },
  {
   "cell_type": "markdown",
   "id": "62fea007-894d-4c82-add8-de76698a6223",
   "metadata": {},
   "source": [
    "## 咒语Prompt"
   ]
  },
  {
   "cell_type": "code",
   "execution_count": 49,
   "id": "3decab23-de37-4a62-8743-88cf12c1fb10",
   "metadata": {},
   "outputs": [],
   "source": [
    "prompt = 'Room with nordic style.'"
   ]
  },
  {
   "cell_type": "markdown",
   "id": "a18be45e-4e57-4a8a-b94f-1b6968d6a8ca",
   "metadata": {},
   "source": [
    "## 执行预测"
   ]
  },
  {
   "cell_type": "code",
   "execution_count": 52,
   "id": "5603a5ee-cee0-4b51-bc35-1e49694dba0b",
   "metadata": {},
   "outputs": [
    {
     "name": "stderr",
     "output_type": "stream",
     "text": [
      "100%|██████████| 20/20 [00:13<00:00,  1.51it/s]\n"
     ]
    }
   ],
   "source": [
    "output_dict = controlnet.infer(prompt, control=control)\n",
    "samples = output_dict['samples']\n",
    "for idx, sample in enumerate(samples):\n",
    "    sample.save(f'output/sample_{idx}.png')\n",
    "controls = output_dict['controls']\n",
    "for idx, control in enumerate(controls):\n",
    "    control.save(f'output/control_{idx}.png')"
   ]
  }
 ],
 "metadata": {
  "kernelspec": {
   "display_name": "Python 3 (ipykernel)",
   "language": "python",
   "name": "python3"
  },
  "language_info": {
   "codemirror_mode": {
    "name": "ipython",
    "version": 3
   },
   "file_extension": ".py",
   "mimetype": "text/x-python",
   "name": "python",
   "nbconvert_exporter": "python",
   "pygments_lexer": "ipython3",
   "version": "3.8.10"
  }
 },
 "nbformat": 4,
 "nbformat_minor": 5
}
