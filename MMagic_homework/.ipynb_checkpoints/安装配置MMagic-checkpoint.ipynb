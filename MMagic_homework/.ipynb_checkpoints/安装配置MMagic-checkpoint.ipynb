{
 "cells": [
  {
   "cell_type": "markdown",
   "id": "9e8e78ff-9535-4c48-9829-9618c655dfc6",
   "metadata": {},
   "source": [
    "## 从源码安装MMagic"
   ]
  },
  {
   "cell_type": "code",
   "execution_count": 1,
   "id": "34d6352c-abe5-4833-b76f-b73eeb3c2774",
   "metadata": {},
   "outputs": [
    {
     "name": "stdout",
     "output_type": "stream",
     "text": [
      "Cloning into 'mmagic'...\n",
      "remote: Enumerating objects: 25636, done.\u001b[K\n",
      "remote: Counting objects: 100% (3600/3600), done.\u001b[K\n",
      "remote: Compressing objects: 100% (1572/1572), done.\u001b[K\n",
      "remote: Total 25636 (delta 2010), reused 3196 (delta 1975), pack-reused 22036\u001b[K\n",
      "Receiving objects: 100% (25636/25636), 21.58 MiB | 11.31 MiB/s, done.\n",
      "Resolving deltas: 100% (17162/17162), done.\n"
     ]
    }
   ],
   "source": [
    "!rm -rf mmagic # 删除原有的 mmagic 文件夹（如有）\n",
    "\n",
    "!git clone https://github.com/open-mmlab/mmagic.git # 下载 mmagic 源代码"
   ]
  },
  {
   "cell_type": "code",
   "execution_count": 2,
   "id": "32c69c51-d1a6-4c9e-a735-42d67403e701",
   "metadata": {},
   "outputs": [],
   "source": [
    "import os\n",
    "os.chdir('mmagic')"
   ]
  },
  {
   "cell_type": "code",
   "execution_count": 3,
   "id": "4e3ba922-59ef-4317-a15d-714b88683348",
   "metadata": {},
   "outputs": [
    {
     "name": "stdout",
     "output_type": "stream",
     "text": [
      "Looking in indexes: http://mirrors.aliyun.com/pypi/simple\n",
      "Obtaining file:///root/autodl-tmp/pythonProject/openmmlab_ai/MMagic_homework/mmagic\n",
      "Collecting av\n",
      "  Downloading http://mirrors.aliyun.com/pypi/packages/09/fc/9ef3f6ca972d02758e5f54a9eb1eb402bff244dda9fe0724f62c756afaf7/av-10.0.0-cp38-cp38-manylinux_2_17_x86_64.manylinux2014_x86_64.whl (31.4 MB)\n",
      "\u001b[K     |████████████████████████████████| 31.4 MB 3.4 MB/s eta 0:00:01\n",
      "\u001b[?25hRequirement already satisfied: click in /root/miniconda3/lib/python3.8/site-packages (from mmagic==1.0.2.dev0) (8.1.3)\n",
      "Collecting controlnet_aux\n",
      "  Downloading http://mirrors.aliyun.com/pypi/packages/2f/9d/25f18e79a4f0de092e2f93bebc556291270af444bb9cd6395b4adb1906e3/controlnet_aux-0.0.5-py3-none-any.whl (231 kB)\n",
      "\u001b[K     |████████████████████████████████| 231 kB 82.3 MB/s eta 0:00:01\n",
      "\u001b[?25hCollecting diffusers>=0.12.0\n",
      "  Downloading http://mirrors.aliyun.com/pypi/packages/8b/a5/999e54be5ba410733e6e4b0f572dbe1006d40dc832c8aad1634e4ace4a29/diffusers-0.17.1-py3-none-any.whl (1.1 MB)\n",
      "\u001b[K     |████████████████████████████████| 1.1 MB 20.5 MB/s eta 0:00:01\n",
      "\u001b[?25hRequirement already satisfied: einops in /root/miniconda3/lib/python3.8/site-packages (from mmagic==1.0.2.dev0) (0.6.1)\n",
      "Collecting face-alignment<=1.3.4\n",
      "  Downloading http://mirrors.aliyun.com/pypi/packages/c2/be/f4cbc7b2191e73415d869462178dce7e9b6c31fd7d8faec9594ce93f7d3b/face_alignment-1.3.4.tar.gz (26 kB)\n",
      "Collecting facexlib\n",
      "  Downloading http://mirrors.aliyun.com/pypi/packages/36/7b/2147339dafe1c4800514c9c21ee4444f8b419ce51dfc7695220a8e0069a6/facexlib-0.3.0-py3-none-any.whl (59 kB)\n",
      "\u001b[K     |████████████████████████████████| 59 kB 93.6 MB/s eta 0:00:01\n",
      "\u001b[?25hCollecting lmdb\n",
      "  Downloading http://mirrors.aliyun.com/pypi/packages/03/d3/b854559b9511e21813e1542fa40cbc3d8f9a24bd76407ba05d995e3f4427/lmdb-1.4.1-cp38-cp38-manylinux_2_17_x86_64.manylinux2014_x86_64.whl (298 kB)\n",
      "\u001b[K     |████████████████████████████████| 298 kB 27.3 MB/s eta 0:00:01\n",
      "\u001b[?25hCollecting lpips\n",
      "  Downloading http://mirrors.aliyun.com/pypi/packages/9b/13/1df50c7925d9d2746702719f40e864f51ed66f307b20ad32392f1ad2bb87/lpips-0.1.4-py3-none-any.whl (53 kB)\n",
      "\u001b[K     |████████████████████████████████| 53 kB 71.2 MB/s eta 0:00:011\n",
      "\u001b[?25hCollecting mediapipe\n",
      "  Downloading http://mirrors.aliyun.com/pypi/packages/ec/ee/478932ba675371e0fca15147cd3f723b076d6d3d723baf2b1ddb973eef64/mediapipe-0.10.1-cp38-cp38-manylinux_2_17_x86_64.manylinux2014_x86_64.whl (33.8 MB)\n",
      "\u001b[K     |████████████████████████████████| 33.8 MB 3.0 MB/s eta 0:00:01\n",
      "\u001b[?25hRequirement already satisfied: numpy in /root/miniconda3/lib/python3.8/site-packages (from mmagic==1.0.2.dev0) (1.22.4)\n",
      "Requirement already satisfied: opencv-python!=4.5.5.62,!=4.5.5.64 in /root/miniconda3/lib/python3.8/site-packages (from mmagic==1.0.2.dev0) (4.6.0.66)\n",
      "Requirement already satisfied: pandas in /root/miniconda3/lib/python3.8/site-packages (from mmagic==1.0.2.dev0) (1.3.5)\n",
      "Requirement already satisfied: Pillow in /root/miniconda3/lib/python3.8/site-packages (from mmagic==1.0.2.dev0) (9.5.0)\n",
      "Collecting resize_right\n",
      "  Downloading http://mirrors.aliyun.com/pypi/packages/1d/08/c5c0640a08d7b373f1175c536462862054ee32145dae457c89916cd568d2/resize_right-0.0.2-py3-none-any.whl (8.9 kB)\n",
      "Requirement already satisfied: tensorboard in /root/miniconda3/lib/python3.8/site-packages (from mmagic==1.0.2.dev0) (2.7.0)\n",
      "Requirement already satisfied: transformers>=4.27.4 in /root/miniconda3/lib/python3.8/site-packages (from mmagic==1.0.2.dev0) (4.29.2)\n",
      "Requirement already satisfied: huggingface-hub>=0.13.2 in /root/miniconda3/lib/python3.8/site-packages (from diffusers>=0.12.0->mmagic==1.0.2.dev0) (0.15.1)\n",
      "Requirement already satisfied: importlib-metadata in /root/miniconda3/lib/python3.8/site-packages (from diffusers>=0.12.0->mmagic==1.0.2.dev0) (4.8.2)\n",
      "Requirement already satisfied: regex!=2019.12.17 in /root/miniconda3/lib/python3.8/site-packages (from diffusers>=0.12.0->mmagic==1.0.2.dev0) (2023.5.5)\n",
      "Requirement already satisfied: filelock in /root/miniconda3/lib/python3.8/site-packages (from diffusers>=0.12.0->mmagic==1.0.2.dev0) (3.12.0)\n",
      "Requirement already satisfied: requests in /root/miniconda3/lib/python3.8/site-packages (from diffusers>=0.12.0->mmagic==1.0.2.dev0) (2.25.1)\n",
      "Requirement already satisfied: torch in /root/miniconda3/lib/python3.8/site-packages (from face-alignment<=1.3.4->mmagic==1.0.2.dev0) (1.10.0+cu113)\n",
      "Requirement already satisfied: scipy>=0.17 in /root/miniconda3/lib/python3.8/site-packages (from face-alignment<=1.3.4->mmagic==1.0.2.dev0) (1.9.1)\n",
      "Requirement already satisfied: scikit-image in /root/miniconda3/lib/python3.8/site-packages (from face-alignment<=1.3.4->mmagic==1.0.2.dev0) (0.20.0)\n",
      "Requirement already satisfied: tqdm in /root/miniconda3/lib/python3.8/site-packages (from face-alignment<=1.3.4->mmagic==1.0.2.dev0) (4.61.2)\n",
      "Collecting numba\n",
      "  Downloading http://mirrors.aliyun.com/pypi/packages/f3/56/4928394c09e071aa8924938849551457df52455c48d84673ce04cae1c7d0/numba-0.57.0-cp38-cp38-manylinux2014_x86_64.manylinux_2_17_x86_64.whl (3.6 MB)\n",
      "\u001b[K     |████████████████████████████████| 3.6 MB 44.9 MB/s eta 0:00:01\n",
      "\u001b[?25hRequirement already satisfied: pyyaml>=5.1 in /root/miniconda3/lib/python3.8/site-packages (from huggingface-hub>=0.13.2->diffusers>=0.12.0->mmagic==1.0.2.dev0) (6.0)\n",
      "Requirement already satisfied: fsspec in /root/miniconda3/lib/python3.8/site-packages (from huggingface-hub>=0.13.2->diffusers>=0.12.0->mmagic==1.0.2.dev0) (2023.5.0)\n",
      "Requirement already satisfied: packaging>=20.9 in /root/miniconda3/lib/python3.8/site-packages (from huggingface-hub>=0.13.2->diffusers>=0.12.0->mmagic==1.0.2.dev0) (21.3)\n",
      "Requirement already satisfied: typing-extensions>=3.7.4.3 in /root/miniconda3/lib/python3.8/site-packages (from huggingface-hub>=0.13.2->diffusers>=0.12.0->mmagic==1.0.2.dev0) (4.0.0)\n",
      "Requirement already satisfied: pyparsing!=3.0.5,>=2.0.2 in /root/miniconda3/lib/python3.8/site-packages (from packaging>=20.9->huggingface-hub>=0.13.2->diffusers>=0.12.0->mmagic==1.0.2.dev0) (3.0.6)\n",
      "Requirement already satisfied: tokenizers!=0.11.3,<0.14,>=0.11.1 in /root/miniconda3/lib/python3.8/site-packages (from transformers>=4.27.4->mmagic==1.0.2.dev0) (0.13.3)\n",
      "Requirement already satisfied: torchvision in /root/miniconda3/lib/python3.8/site-packages (from controlnet_aux->mmagic==1.0.2.dev0) (0.11.1+cu113)\n",
      "Collecting timm\n",
      "  Downloading http://mirrors.aliyun.com/pypi/packages/29/90/94f5deb8d76e24a89813aef95e8809ca8fd7414490428480eda19b133d4a/timm-0.9.2-py3-none-any.whl (2.2 MB)\n",
      "\u001b[K     |████████████████████████████████| 2.2 MB 38.9 MB/s eta 0:00:01\n",
      "\u001b[?25hCollecting filterpy\n",
      "  Downloading http://mirrors.aliyun.com/pypi/packages/f6/1d/ac8914360460fafa1990890259b7fa5ef7ba4cd59014e782e4ab3ab144d8/filterpy-1.4.5.zip (177 kB)\n",
      "\u001b[K     |████████████████████████████████| 177 kB 41.7 MB/s eta 0:00:01\n",
      "\u001b[?25hRequirement already satisfied: matplotlib in /root/miniconda3/lib/python3.8/site-packages (from filterpy->facexlib->mmagic==1.0.2.dev0) (3.5.0)\n",
      "Requirement already satisfied: zipp>=0.5 in /root/miniconda3/lib/python3.8/site-packages (from importlib-metadata->diffusers>=0.12.0->mmagic==1.0.2.dev0) (3.6.0)\n",
      "Requirement already satisfied: python-dateutil>=2.7 in /root/miniconda3/lib/python3.8/site-packages (from matplotlib->filterpy->facexlib->mmagic==1.0.2.dev0) (2.8.2)\n",
      "Requirement already satisfied: kiwisolver>=1.0.1 in /root/miniconda3/lib/python3.8/site-packages (from matplotlib->filterpy->facexlib->mmagic==1.0.2.dev0) (1.3.2)\n",
      "Requirement already satisfied: fonttools>=4.22.0 in /root/miniconda3/lib/python3.8/site-packages (from matplotlib->filterpy->facexlib->mmagic==1.0.2.dev0) (4.28.2)\n",
      "Requirement already satisfied: setuptools-scm>=4 in /root/miniconda3/lib/python3.8/site-packages (from matplotlib->filterpy->facexlib->mmagic==1.0.2.dev0) (6.3.2)\n",
      "Requirement already satisfied: cycler>=0.10 in /root/miniconda3/lib/python3.8/site-packages (from matplotlib->filterpy->facexlib->mmagic==1.0.2.dev0) (0.11.0)\n",
      "Requirement already satisfied: six>=1.5 in /root/miniconda3/lib/python3.8/site-packages (from python-dateutil>=2.7->matplotlib->filterpy->facexlib->mmagic==1.0.2.dev0) (1.16.0)\n",
      "Requirement already satisfied: tomli>=1.0.0 in /root/miniconda3/lib/python3.8/site-packages (from setuptools-scm>=4->matplotlib->filterpy->facexlib->mmagic==1.0.2.dev0) (1.2.2)\n",
      "Requirement already satisfied: setuptools in /root/miniconda3/lib/python3.8/site-packages (from setuptools-scm>=4->matplotlib->filterpy->facexlib->mmagic==1.0.2.dev0) (52.0.0.post20210125)\n",
      "Collecting opencv-contrib-python\n",
      "  Downloading http://mirrors.aliyun.com/pypi/packages/fb/89/8370c6864e518be9ca1b54a19b5daf398f4943041e1283ffa7ba0c66c0bd/opencv_contrib_python-4.7.0.72-cp37-abi3-manylinux_2_17_x86_64.manylinux2014_x86_64.whl (67.9 MB)\n",
      "\u001b[K     |████████████████████████████████| 67.9 MB 7.5 MB/s eta 0:00:012\n",
      "\u001b[?25hCollecting sounddevice>=0.4.4\n",
      "  Downloading http://mirrors.aliyun.com/pypi/packages/d7/d5/f0a0aba169f23657c7af3f0c878db7413a9a3b113026fc759862a697c611/sounddevice-0.4.6-py3-none-any.whl (31 kB)\n",
      "Requirement already satisfied: absl-py in /root/miniconda3/lib/python3.8/site-packages (from mediapipe->mmagic==1.0.2.dev0) (1.0.0)\n",
      "Requirement already satisfied: attrs>=19.1.0 in /root/miniconda3/lib/python3.8/site-packages (from mediapipe->mmagic==1.0.2.dev0) (21.2.0)\n",
      "Collecting flatbuffers>=2.0\n",
      "  Downloading http://mirrors.aliyun.com/pypi/packages/6f/12/d5c79ee252793ffe845d58a913197bfa02ae9a0b5c9bc3dc4b58d477b9e7/flatbuffers-23.5.26-py2.py3-none-any.whl (26 kB)\n",
      "Requirement already satisfied: protobuf<4,>=3.11 in /root/miniconda3/lib/python3.8/site-packages (from mediapipe->mmagic==1.0.2.dev0) (3.19.1)\n",
      "Requirement already satisfied: CFFI>=1.0 in /root/miniconda3/lib/python3.8/site-packages (from sounddevice>=0.4.4->mediapipe->mmagic==1.0.2.dev0) (1.14.6)\n",
      "Requirement already satisfied: pycparser in /root/miniconda3/lib/python3.8/site-packages (from CFFI>=1.0->sounddevice>=0.4.4->mediapipe->mmagic==1.0.2.dev0) (2.20)\n",
      "Collecting llvmlite<0.41,>=0.40.0dev0\n",
      "  Downloading http://mirrors.aliyun.com/pypi/packages/5f/4a/5586d0833bbc6a8228c984a883f6acce2ab15224087b4c716338695e87fd/llvmlite-0.40.1rc1-cp38-cp38-manylinux_2_17_x86_64.manylinux2014_x86_64.whl (42.1 MB)\n",
      "\u001b[K     |████████████████████████████████| 42.1 MB 5.7 MB/s eta 0:00:01\n",
      "\u001b[?25hRequirement already satisfied: pytz>=2017.3 in /root/miniconda3/lib/python3.8/site-packages (from pandas->mmagic==1.0.2.dev0) (2021.3)\n",
      "Requirement already satisfied: idna<3,>=2.5 in /root/miniconda3/lib/python3.8/site-packages (from requests->diffusers>=0.12.0->mmagic==1.0.2.dev0) (2.10)\n",
      "Requirement already satisfied: urllib3<1.27,>=1.21.1 in /root/miniconda3/lib/python3.8/site-packages (from requests->diffusers>=0.12.0->mmagic==1.0.2.dev0) (1.26.6)\n",
      "Requirement already satisfied: chardet<5,>=3.0.2 in /root/miniconda3/lib/python3.8/site-packages (from requests->diffusers>=0.12.0->mmagic==1.0.2.dev0) (4.0.0)\n",
      "Requirement already satisfied: certifi>=2017.4.17 in /root/miniconda3/lib/python3.8/site-packages (from requests->diffusers>=0.12.0->mmagic==1.0.2.dev0) (2021.5.30)\n",
      "Requirement already satisfied: tifffile>=2019.7.26 in /root/miniconda3/lib/python3.8/site-packages (from scikit-image->face-alignment<=1.3.4->mmagic==1.0.2.dev0) (2023.4.12)\n",
      "Requirement already satisfied: lazy_loader>=0.1 in /root/miniconda3/lib/python3.8/site-packages (from scikit-image->face-alignment<=1.3.4->mmagic==1.0.2.dev0) (0.2)\n",
      "Requirement already satisfied: imageio>=2.4.1 in /root/miniconda3/lib/python3.8/site-packages (from scikit-image->face-alignment<=1.3.4->mmagic==1.0.2.dev0) (2.28.1)\n",
      "Requirement already satisfied: PyWavelets>=1.1.1 in /root/miniconda3/lib/python3.8/site-packages (from scikit-image->face-alignment<=1.3.4->mmagic==1.0.2.dev0) (1.4.1)\n",
      "Requirement already satisfied: networkx>=2.8 in /root/miniconda3/lib/python3.8/site-packages (from scikit-image->face-alignment<=1.3.4->mmagic==1.0.2.dev0) (3.1)\n",
      "Requirement already satisfied: tensorboard-plugin-wit>=1.6.0 in /root/miniconda3/lib/python3.8/site-packages (from tensorboard->mmagic==1.0.2.dev0) (1.8.0)\n",
      "Requirement already satisfied: markdown>=2.6.8 in /root/miniconda3/lib/python3.8/site-packages (from tensorboard->mmagic==1.0.2.dev0) (3.3.6)\n",
      "Requirement already satisfied: wheel>=0.26 in /root/miniconda3/lib/python3.8/site-packages (from tensorboard->mmagic==1.0.2.dev0) (0.36.2)\n",
      "Requirement already satisfied: tensorboard-data-server<0.7.0,>=0.6.0 in /root/miniconda3/lib/python3.8/site-packages (from tensorboard->mmagic==1.0.2.dev0) (0.6.1)\n",
      "Requirement already satisfied: google-auth<3,>=1.6.3 in /root/miniconda3/lib/python3.8/site-packages (from tensorboard->mmagic==1.0.2.dev0) (2.3.3)\n",
      "Requirement already satisfied: grpcio>=1.24.3 in /root/miniconda3/lib/python3.8/site-packages (from tensorboard->mmagic==1.0.2.dev0) (1.42.0)\n",
      "Requirement already satisfied: werkzeug>=0.11.15 in /root/miniconda3/lib/python3.8/site-packages (from tensorboard->mmagic==1.0.2.dev0) (2.0.2)\n",
      "Requirement already satisfied: google-auth-oauthlib<0.5,>=0.4.1 in /root/miniconda3/lib/python3.8/site-packages (from tensorboard->mmagic==1.0.2.dev0) (0.4.6)\n",
      "Requirement already satisfied: rsa<5,>=3.1.4 in /root/miniconda3/lib/python3.8/site-packages (from google-auth<3,>=1.6.3->tensorboard->mmagic==1.0.2.dev0) (4.8)\n",
      "Requirement already satisfied: pyasn1-modules>=0.2.1 in /root/miniconda3/lib/python3.8/site-packages (from google-auth<3,>=1.6.3->tensorboard->mmagic==1.0.2.dev0) (0.2.8)\n",
      "Requirement already satisfied: cachetools<5.0,>=2.0.0 in /root/miniconda3/lib/python3.8/site-packages (from google-auth<3,>=1.6.3->tensorboard->mmagic==1.0.2.dev0) (4.2.4)\n",
      "Requirement already satisfied: requests-oauthlib>=0.7.0 in /root/miniconda3/lib/python3.8/site-packages (from google-auth-oauthlib<0.5,>=0.4.1->tensorboard->mmagic==1.0.2.dev0) (1.3.0)\n",
      "Requirement already satisfied: pyasn1<0.5.0,>=0.4.6 in /root/miniconda3/lib/python3.8/site-packages (from pyasn1-modules>=0.2.1->google-auth<3,>=1.6.3->tensorboard->mmagic==1.0.2.dev0) (0.4.8)\n",
      "Requirement already satisfied: oauthlib>=3.0.0 in /root/miniconda3/lib/python3.8/site-packages (from requests-oauthlib>=0.7.0->google-auth-oauthlib<0.5,>=0.4.1->tensorboard->mmagic==1.0.2.dev0) (3.1.1)\n",
      "Collecting safetensors\n",
      "  Downloading http://mirrors.aliyun.com/pypi/packages/85/50/60e0407a8d81ef05478c513778499dc569c2f3662ee959a28548c533e3f5/safetensors-0.3.1-cp38-cp38-manylinux_2_17_x86_64.manylinux2014_x86_64.whl (1.3 MB)\n",
      "\u001b[K     |████████████████████████████████| 1.3 MB 31.9 MB/s eta 0:00:01\n",
      "\u001b[?25hBuilding wheels for collected packages: face-alignment, filterpy\n",
      "  Building wheel for face-alignment (setup.py) ... \u001b[?25ldone\n",
      "\u001b[?25h  Created wheel for face-alignment: filename=face_alignment-1.3.4-py2.py3-none-any.whl size=27859 sha256=8419d523bd76e733819c5588fb6201144a8c5627d71dca12790bb896301910b5\n",
      "  Stored in directory: /root/.cache/pip/wheels/de/68/f5/76db2e5ffbc882386a686244cb7058309a1cee25d6c1c54553\n",
      "  Building wheel for filterpy (setup.py) ... \u001b[?25ldone\n",
      "\u001b[?25h  Created wheel for filterpy: filename=filterpy-1.4.5-py3-none-any.whl size=110451 sha256=32c77c22ad438e2a040dc909653068f859e3a80c61ff624feba7391e353217e6\n",
      "  Stored in directory: /root/.cache/pip/wheels/1f/a0/08/9388a0fe5337fbe2a814a3a8e2c63119ce722a2a42b5828c66\n",
      "Successfully built face-alignment filterpy\n",
      "Installing collected packages: safetensors, llvmlite, timm, sounddevice, opencv-contrib-python, numba, flatbuffers, filterpy, resize-right, mediapipe, lpips, lmdb, facexlib, face-alignment, diffusers, controlnet-aux, av, mmagic\n",
      "  Running setup.py develop for mmagic\n",
      "Successfully installed av-10.0.0 controlnet-aux-0.0.5 diffusers-0.17.1 face-alignment-1.3.4 facexlib-0.3.0 filterpy-1.4.5 flatbuffers-23.5.26 llvmlite-0.40.1rc1 lmdb-1.4.1 lpips-0.1.4 mediapipe-0.10.1 mmagic-1.0.2.dev0 numba-0.57.0 opencv-contrib-python-4.7.0.72 resize-right-0.0.2 safetensors-0.3.1 sounddevice-0.4.6 timm-0.9.2\n",
      "\u001b[33mWARNING: Running pip as the 'root' user can result in broken permissions and conflicting behaviour with the system package manager. It is recommended to use a virtual environment instead: https://pip.pypa.io/warnings/venv\u001b[0m\n"
     ]
    }
   ],
   "source": [
    "!pip3 install -e ."
   ]
  },
  {
   "cell_type": "markdown",
   "id": "39172fb5-1f62-4f0b-8f52-8441bb300b81",
   "metadata": {},
   "source": [
    "## 检查安装成功"
   ]
  },
  {
   "cell_type": "code",
   "execution_count": 4,
   "id": "4e51ba7e-769b-4eb0-a5d4-3c70fe51f49c",
   "metadata": {},
   "outputs": [
    {
     "name": "stdout",
     "output_type": "stream",
     "text": [
      "Pytorch 版本 1.10.0+cu113\n",
      "CUDA 是否可用 True\n"
     ]
    }
   ],
   "source": [
    "# 检查 Pytorch\n",
    "import torch, torchvision\n",
    "print('Pytorch 版本', torch.__version__)\n",
    "print('CUDA 是否可用',torch.cuda.is_available())"
   ]
  },
  {
   "cell_type": "code",
   "execution_count": 5,
   "id": "4630f3c2-7473-4b70-a42b-152b01c2c6a5",
   "metadata": {},
   "outputs": [
    {
     "name": "stdout",
     "output_type": "stream",
     "text": [
      "MMCV版本 2.0.0\n",
      "CUDA版本 11.3\n",
      "编译器版本 GCC 9.3\n"
     ]
    }
   ],
   "source": [
    "# 检查 mmcv\n",
    "import mmcv\n",
    "from mmcv.ops import get_compiling_cuda_version, get_compiler_version\n",
    "print('MMCV版本', mmcv.__version__)\n",
    "print('CUDA版本', get_compiling_cuda_version())\n",
    "print('编译器版本', get_compiler_version())"
   ]
  },
  {
   "cell_type": "code",
   "execution_count": 6,
   "id": "c4da02a2-2d53-4830-99b2-6cb88a67a5f5",
   "metadata": {},
   "outputs": [
    {
     "name": "stdout",
     "output_type": "stream",
     "text": [
      "MMagic版本 1.0.2dev0\n"
     ]
    }
   ],
   "source": [
    "# 检查 mmagic\n",
    "import mmagic\n",
    "print('MMagic版本', mmagic.__version__)"
   ]
  },
  {
   "cell_type": "markdown",
   "id": "064f73a6-c6fa-4f8a-8eeb-e41b542d94e5",
   "metadata": {},
   "source": [
    "## 安装其它工具包"
   ]
  },
  {
   "cell_type": "code",
   "execution_count": null,
   "id": "954fac45-f4e6-4a28-ae20-4444864d57f5",
   "metadata": {},
   "outputs": [],
   "source": [
    "!pip install opencv-python pillow matplotlib seaborn tqdm -i https://pypi.tuna.tsinghua.edu.cn/simple\n",
    "!pip install clip transformers gradio 'httpx[socks]' diffusers==0.14.0 -i https://pypi.tuna.tsinghua.edu.cn/simple\n",
    "!mim install 'mmdet>=3.0.0'"
   ]
  }
 ],
 "metadata": {
  "kernelspec": {
   "display_name": "Python 3 (ipykernel)",
   "language": "python",
   "name": "python3"
  },
  "language_info": {
   "codemirror_mode": {
    "name": "ipython",
    "version": 3
   },
   "file_extension": ".py",
   "mimetype": "text/x-python",
   "name": "python",
   "nbconvert_exporter": "python",
   "pygments_lexer": "ipython3",
   "version": "3.8.10"
  }
 },
 "nbformat": 4,
 "nbformat_minor": 5
}
