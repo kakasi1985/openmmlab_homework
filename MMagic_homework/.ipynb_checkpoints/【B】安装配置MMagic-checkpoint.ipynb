{
 "cells": [
  {
   "cell_type": "markdown",
   "id": "bc3d1961-9081-49c9-be56-ad0c748decf1",
   "metadata": {},
   "source": [
    "# 安装配置MMagic"
   ]
  },
  {
   "cell_type": "markdown",
   "id": "0fc8ebd8-db6e-4a17-895f-2f87fc98ca79",
   "metadata": {},
   "source": [
    "按照顺序逐行运行本代码，即可安装配置 MMCV、MMagic环境\n",
    "\n",
    "推荐代码运行[云GPU环境](https://featurize.cn?s=d7ce99f842414bfcaea5662a97581bd1)：GPU RTX 3060、CUDA v11.2\n",
    "\n",
    "作者：同济子豪兄 2023-6-13"
   ]
  },
  {
   "cell_type": "markdown",
   "id": "63d0dc47-4601-49a3-8d25-12b4d24fa6f0",
   "metadata": {},
   "source": [
    "> 提示：以下代码运行时，若长时间运行卡着不动，可重启 kernel 后重新运行一遍"
   ]
  },
  {
   "cell_type": "markdown",
   "id": "6fc1c686-1267-4503-b9e4-bcb188a7f974",
   "metadata": {
    "tags": []
   },
   "source": [
    "## 安装Pytorch"
   ]
  },
  {
   "cell_type": "code",
   "execution_count": 1,
   "id": "2fef57fc-d5f0-4cd0-a134-1f025c15439f",
   "metadata": {},
   "outputs": [
    {
     "name": "stdout",
     "output_type": "stream",
     "text": [
      "Looking in indexes: https://pypi.tuna.tsinghua.edu.cn/simple\n",
      "Looking in links: https://download.pytorch.org/whl/cu113/torch_stable.html\n",
      "Collecting install\n",
      "  Downloading https://pypi.tuna.tsinghua.edu.cn/packages/4d/c8/8cbca135f9e167810756ea2bc34b028501936675fcbd7dadccf752fa4622/install-1.3.5-py3-none-any.whl (3.2 kB)\n",
      "Collecting torch==1.10.1+cu113\n",
      "  Downloading https://download.pytorch.org/whl/cu113/torch-1.10.1%2Bcu113-cp38-cp38-linux_x86_64.whl (1821.4 MB)\n",
      "\u001b[2K     \u001b[90m━━━━━━━━━━━━━━━━━━━━━━━━━━━━━━━━━━━━━━━━\u001b[0m \u001b[32m1.8/1.8 GB\u001b[0m \u001b[31m31.3 MB/s\u001b[0m eta \u001b[36m0:00:00\u001b[0m:00:01\u001b[0m00:01\u001b[0m\n",
      "\u001b[?25hCollecting torchvision==0.11.2+cu113\n",
      "  Downloading https://download.pytorch.org/whl/cu113/torchvision-0.11.2%2Bcu113-cp38-cp38-linux_x86_64.whl (24.6 MB)\n",
      "\u001b[2K     \u001b[90m━━━━━━━━━━━━━━━━━━━━━━━━━━━━━━━━━━━━━━━\u001b[0m \u001b[32m24.6/24.6 MB\u001b[0m \u001b[31m169.3 MB/s\u001b[0m eta \u001b[36m0:00:00\u001b[0m00:01\u001b[0m00:01\u001b[0m\n",
      "\u001b[?25hCollecting torchaudio==0.10.1+cu113\n",
      "  Downloading https://download.pytorch.org/whl/cu113/torchaudio-0.10.1%2Bcu113-cp38-cp38-linux_x86_64.whl (2.9 MB)\n",
      "\u001b[2K     \u001b[90m━━━━━━━━━━━━━━━━━━━━━━━━━━━━━━━━━━━━━━━━\u001b[0m \u001b[32m2.9/2.9 MB\u001b[0m \u001b[31m201.5 MB/s\u001b[0m eta \u001b[36m0:00:00\u001b[0m\n",
      "\u001b[?25hRequirement already satisfied: typing-extensions in /environment/miniconda3/lib/python3.8/site-packages (from torch==1.10.1+cu113) (4.5.0)\n",
      "Requirement already satisfied: pillow!=8.3.0,>=5.3.0 in /environment/miniconda3/lib/python3.8/site-packages (from torchvision==0.11.2+cu113) (9.3.0)\n",
      "Requirement already satisfied: numpy in /environment/miniconda3/lib/python3.8/site-packages (from torchvision==0.11.2+cu113) (1.24.1)\n",
      "Installing collected packages: torch, install, torchvision, torchaudio\n",
      "  Attempting uninstall: torch\n",
      "    Found existing installation: torch 2.0.0+cu118\n",
      "    Uninstalling torch-2.0.0+cu118:\n",
      "      Successfully uninstalled torch-2.0.0+cu118\n",
      "  Attempting uninstall: torchvision\n",
      "    Found existing installation: torchvision 0.15.1+cu118\n",
      "    Uninstalling torchvision-0.15.1+cu118:\n",
      "      Successfully uninstalled torchvision-0.15.1+cu118\n",
      "  Attempting uninstall: torchaudio\n",
      "    Found existing installation: torchaudio 2.0.1+cu118\n",
      "    Uninstalling torchaudio-2.0.1+cu118:\n",
      "      Successfully uninstalled torchaudio-2.0.1+cu118\n",
      "Successfully installed install-1.3.5 torch-1.10.1+cu113 torchaudio-0.10.1+cu113 torchvision-0.11.2+cu113\n"
     ]
    }
   ],
   "source": [
    "# 安装Pytorch\n",
    "!pip3 install install torch==1.10.1+cu113 torchvision==0.11.2+cu113 torchaudio==0.10.1+cu113 -f https://download.pytorch.org/whl/cu113/torch_stable.html\n"
   ]
  },
  {
   "cell_type": "markdown",
   "id": "054b64e4-4796-4136-b45e-3664b281cf30",
   "metadata": {},
   "source": [
    "## 安装MMCV和MMEngine环境"
   ]
  },
  {
   "cell_type": "code",
   "execution_count": 2,
   "id": "3fab4b08-7b45-4c82-923c-b08b680d1c76",
   "metadata": {},
   "outputs": [
    {
     "name": "stdout",
     "output_type": "stream",
     "text": [
      "Looking in indexes: https://pypi.tuna.tsinghua.edu.cn/simple\n",
      "Collecting openmim\n",
      "  Downloading https://pypi.tuna.tsinghua.edu.cn/packages/b9/19/f7436e610163f65ff83de5a768180e73765e54bdaee5f5f37983aa3171b9/openmim-0.3.7-py2.py3-none-any.whl (51 kB)\n",
      "\u001b[2K     \u001b[90m━━━━━━━━━━━━━━━━━━━━━━━━━━━━━━━━━━━━━━━\u001b[0m \u001b[32m51.3/51.3 kB\u001b[0m \u001b[31m106.9 MB/s\u001b[0m eta \u001b[36m0:00:00\u001b[0m\n",
      "\u001b[?25hRequirement already satisfied: Click in /environment/miniconda3/lib/python3.8/site-packages (from openmim) (7.1.2)\n",
      "Requirement already satisfied: tabulate in /environment/miniconda3/lib/python3.8/site-packages (from openmim) (0.8.7)\n",
      "Collecting rich\n",
      "  Downloading https://pypi.tuna.tsinghua.edu.cn/packages/fc/1e/482e5eec0b89b593e81d78f819a9412849814e22225842b598908e7ac560/rich-13.4.2-py3-none-any.whl (239 kB)\n",
      "\u001b[2K     \u001b[90m━━━━━━━━━━━━━━━━━━━━━━━━━━━━━━━━━━━━━\u001b[0m \u001b[32m239.4/239.4 kB\u001b[0m \u001b[31m129.0 MB/s\u001b[0m eta \u001b[36m0:00:00\u001b[0m\n",
      "\u001b[?25hCollecting model-index\n",
      "  Downloading https://pypi.tuna.tsinghua.edu.cn/packages/0f/a6/4d4cbbef704f186d143e2859296a610a355992e4eae71582bd598093b36a/model_index-0.1.11-py3-none-any.whl (34 kB)\n",
      "Requirement already satisfied: pandas in /environment/miniconda3/lib/python3.8/site-packages (from openmim) (1.5.3)\n",
      "Requirement already satisfied: requests in /environment/miniconda3/lib/python3.8/site-packages (from openmim) (2.24.0)\n",
      "Requirement already satisfied: colorama in /environment/miniconda3/lib/python3.8/site-packages (from openmim) (0.4.6)\n",
      "Requirement already satisfied: pip>=19.3 in /environment/miniconda3/lib/python3.8/site-packages (from openmim) (23.0.1)\n",
      "Collecting ordered-set\n",
      "  Downloading https://pypi.tuna.tsinghua.edu.cn/packages/33/55/af02708f230eb77084a299d7b08175cff006dea4f2721074b92cdb0296c0/ordered_set-4.1.0-py3-none-any.whl (7.6 kB)\n",
      "Requirement already satisfied: pyyaml in /environment/miniconda3/lib/python3.8/site-packages (from model-index->openmim) (6.0)\n",
      "Requirement already satisfied: markdown in /environment/miniconda3/lib/python3.8/site-packages (from model-index->openmim) (3.4.1)\n",
      "Requirement already satisfied: numpy>=1.20.3 in /environment/miniconda3/lib/python3.8/site-packages (from pandas->openmim) (1.24.1)\n",
      "Requirement already satisfied: python-dateutil>=2.8.1 in /environment/miniconda3/lib/python3.8/site-packages (from pandas->openmim) (2.8.2)\n",
      "Requirement already satisfied: pytz>=2020.1 in /environment/miniconda3/lib/python3.8/site-packages (from pandas->openmim) (2022.7.1)\n",
      "Requirement already satisfied: certifi>=2017.4.17 in /environment/miniconda3/lib/python3.8/site-packages (from requests->openmim) (2022.12.7)\n",
      "Requirement already satisfied: idna<3,>=2.5 in /environment/miniconda3/lib/python3.8/site-packages (from requests->openmim) (2.10)\n",
      "Requirement already satisfied: chardet<4,>=3.0.2 in /environment/miniconda3/lib/python3.8/site-packages (from requests->openmim) (3.0.4)\n",
      "Requirement already satisfied: urllib3!=1.25.0,!=1.25.1,<1.26,>=1.21.1 in /environment/miniconda3/lib/python3.8/site-packages (from requests->openmim) (1.25.11)\n",
      "Requirement already satisfied: typing-extensions<5.0,>=4.0.0 in /environment/miniconda3/lib/python3.8/site-packages (from rich->openmim) (4.5.0)\n",
      "Requirement already satisfied: pygments<3.0.0,>=2.13.0 in /environment/miniconda3/lib/python3.8/site-packages (from rich->openmim) (2.14.0)\n",
      "Collecting markdown-it-py>=2.2.0\n",
      "  Downloading https://pypi.tuna.tsinghua.edu.cn/packages/42/d7/1ec15b46af6af88f19b8e5ffea08fa375d433c998b8a7639e76935c14f1f/markdown_it_py-3.0.0-py3-none-any.whl (87 kB)\n",
      "\u001b[2K     \u001b[90m━━━━━━━━━━━━━━━━━━━━━━━━━━━━━━━━━━━━━━━\u001b[0m \u001b[32m87.5/87.5 kB\u001b[0m \u001b[31m140.7 MB/s\u001b[0m eta \u001b[36m0:00:00\u001b[0m\n",
      "\u001b[?25hCollecting mdurl~=0.1\n",
      "  Downloading https://pypi.tuna.tsinghua.edu.cn/packages/b3/38/89ba8ad64ae25be8de66a6d463314cf1eb366222074cfda9ee839c56a4b4/mdurl-0.1.2-py3-none-any.whl (10.0 kB)\n",
      "Requirement already satisfied: six>=1.5 in /environment/miniconda3/lib/python3.8/site-packages (from python-dateutil>=2.8.1->pandas->openmim) (1.16.0)\n",
      "Requirement already satisfied: importlib-metadata>=4.4 in /environment/miniconda3/lib/python3.8/site-packages (from markdown->model-index->openmim) (6.0.0)\n",
      "Requirement already satisfied: zipp>=0.5 in /environment/miniconda3/lib/python3.8/site-packages (from importlib-metadata>=4.4->markdown->model-index->openmim) (3.15.0)\n",
      "Installing collected packages: ordered-set, mdurl, markdown-it-py, rich, model-index, openmim\n",
      "Successfully installed markdown-it-py-3.0.0 mdurl-0.1.2 model-index-0.1.11 openmim-0.3.7 ordered-set-4.1.0 rich-13.4.2\n",
      "Looking in indexes: https://pypi.tuna.tsinghua.edu.cn/simple\n",
      "Looking in links: https://download.openmmlab.com/mmcv/dist/cu113/torch1.10.0/index.html\n",
      "Collecting mmcv>=2.0.0\n",
      "  Downloading https://download.openmmlab.com/mmcv/dist/cu113/torch1.10.0/mmcv-2.0.0-cp38-cp38-manylinux1_x86_64.whl (86.2 MB)\n",
      "\u001b[2K     \u001b[90m━━━━━━━━━━━━━━━━━━━━━━━━━━━━━━━━━━━━━━━━\u001b[0m \u001b[32m86.2/86.2 MB\u001b[0m \u001b[31m7.1 MB/s\u001b[0m eta \u001b[36m0:00:00\u001b[0m:00:01\u001b[0m00:01\u001b[0m\n",
      "\u001b[?25hCollecting opencv-python>=3\n",
      "  Downloading https://pypi.tuna.tsinghua.edu.cn/packages/29/35/a791b550cdeb4efd8b66e921748f2aff938868a29794489d93575d604a02/opencv_python-4.7.0.72-cp37-abi3-manylinux_2_17_x86_64.manylinux2014_x86_64.whl (61.8 MB)\n",
      "\u001b[2K     \u001b[90m━━━━━━━━━━━━━━━━━━━━━━━━━━━━━━━━━━━━━━━\u001b[0m \u001b[32m61.8/61.8 MB\u001b[0m \u001b[31m171.4 MB/s\u001b[0m eta \u001b[36m0:00:00\u001b[0m00:01\u001b[0m00:01\u001b[0m\n",
      "\u001b[?25hRequirement already satisfied: Pillow in /environment/miniconda3/lib/python3.8/site-packages (from mmcv>=2.0.0) (9.3.0)\n",
      "Collecting yapf\n",
      "  Downloading https://pypi.tuna.tsinghua.edu.cn/packages/32/ec/531851d561ecb656bd58dc102338d0aa07e086788f351c63a9f6b8a00fe6/yapf-0.33.0-py2.py3-none-any.whl (200 kB)\n",
      "\u001b[2K     \u001b[90m━━━━━━━━━━━━━━━━━━━━━━━━━━━━━━━━━━━━━\u001b[0m \u001b[32m200.9/200.9 kB\u001b[0m \u001b[31m188.3 MB/s\u001b[0m eta \u001b[36m0:00:00\u001b[0m\n",
      "\u001b[?25hCollecting addict\n",
      "  Downloading https://pypi.tuna.tsinghua.edu.cn/packages/6a/00/b08f23b7d7e1e14ce01419a467b583edbb93c6cdb8654e54a9cc579cd61f/addict-2.4.0-py3-none-any.whl (3.8 kB)\n",
      "Requirement already satisfied: packaging in /environment/miniconda3/lib/python3.8/site-packages (from mmcv>=2.0.0) (23.0)\n",
      "Requirement already satisfied: pyyaml in /environment/miniconda3/lib/python3.8/site-packages (from mmcv>=2.0.0) (6.0)\n",
      "Collecting mmengine>=0.2.0\n",
      "  Downloading https://pypi.tuna.tsinghua.edu.cn/packages/11/f4/714c5fa78885c459a4d75957764367c195c937b56f5325898ea514c5a04e/mmengine-0.7.4-py3-none-any.whl (374 kB)\n",
      "\u001b[2K     \u001b[90m━━━━━━━━━━━━━━━━━━━━━━━━━━━━━━━━━━━━━\u001b[0m \u001b[32m374.3/374.3 kB\u001b[0m \u001b[31m184.9 MB/s\u001b[0m eta \u001b[36m0:00:00\u001b[0m\n",
      "\u001b[?25hRequirement already satisfied: numpy in /environment/miniconda3/lib/python3.8/site-packages (from mmcv>=2.0.0) (1.24.1)\n",
      "Requirement already satisfied: matplotlib in /environment/miniconda3/lib/python3.8/site-packages (from mmengine>=0.2.0->mmcv>=2.0.0) (3.7.1)\n",
      "Requirement already satisfied: rich in /environment/miniconda3/lib/python3.8/site-packages (from mmengine>=0.2.0->mmcv>=2.0.0) (13.4.2)\n",
      "Requirement already satisfied: termcolor in /environment/miniconda3/lib/python3.8/site-packages (from mmengine>=0.2.0->mmcv>=2.0.0) (2.2.0)\n",
      "Collecting tomli>=2.0.1\n",
      "  Downloading https://pypi.tuna.tsinghua.edu.cn/packages/97/75/10a9ebee3fd790d20926a90a2547f0bf78f371b2f13aa822c759680ca7b9/tomli-2.0.1-py3-none-any.whl (12 kB)\n",
      "Requirement already satisfied: pyparsing>=2.3.1 in /environment/miniconda3/lib/python3.8/site-packages (from matplotlib->mmengine>=0.2.0->mmcv>=2.0.0) (3.0.9)\n",
      "Requirement already satisfied: importlib-resources>=3.2.0 in /environment/miniconda3/lib/python3.8/site-packages (from matplotlib->mmengine>=0.2.0->mmcv>=2.0.0) (5.12.0)\n",
      "Requirement already satisfied: cycler>=0.10 in /environment/miniconda3/lib/python3.8/site-packages (from matplotlib->mmengine>=0.2.0->mmcv>=2.0.0) (0.11.0)\n",
      "Requirement already satisfied: python-dateutil>=2.7 in /environment/miniconda3/lib/python3.8/site-packages (from matplotlib->mmengine>=0.2.0->mmcv>=2.0.0) (2.8.2)\n",
      "Requirement already satisfied: fonttools>=4.22.0 in /environment/miniconda3/lib/python3.8/site-packages (from matplotlib->mmengine>=0.2.0->mmcv>=2.0.0) (4.39.2)\n",
      "Requirement already satisfied: contourpy>=1.0.1 in /environment/miniconda3/lib/python3.8/site-packages (from matplotlib->mmengine>=0.2.0->mmcv>=2.0.0) (1.0.7)\n",
      "Requirement already satisfied: kiwisolver>=1.0.1 in /environment/miniconda3/lib/python3.8/site-packages (from matplotlib->mmengine>=0.2.0->mmcv>=2.0.0) (1.4.4)\n",
      "Requirement already satisfied: typing-extensions<5.0,>=4.0.0 in /environment/miniconda3/lib/python3.8/site-packages (from rich->mmengine>=0.2.0->mmcv>=2.0.0) (4.5.0)\n",
      "Requirement already satisfied: pygments<3.0.0,>=2.13.0 in /environment/miniconda3/lib/python3.8/site-packages (from rich->mmengine>=0.2.0->mmcv>=2.0.0) (2.14.0)\n",
      "Requirement already satisfied: markdown-it-py>=2.2.0 in /environment/miniconda3/lib/python3.8/site-packages (from rich->mmengine>=0.2.0->mmcv>=2.0.0) (3.0.0)\n",
      "Requirement already satisfied: zipp>=3.1.0 in /environment/miniconda3/lib/python3.8/site-packages (from importlib-resources>=3.2.0->matplotlib->mmengine>=0.2.0->mmcv>=2.0.0) (3.15.0)\n",
      "Requirement already satisfied: mdurl~=0.1 in /environment/miniconda3/lib/python3.8/site-packages (from markdown-it-py>=2.2.0->rich->mmengine>=0.2.0->mmcv>=2.0.0) (0.1.2)\n",
      "Requirement already satisfied: six>=1.5 in /environment/miniconda3/lib/python3.8/site-packages (from python-dateutil>=2.7->matplotlib->mmengine>=0.2.0->mmcv>=2.0.0) (1.16.0)\n",
      "Installing collected packages: addict, tomli, opencv-python, yapf, mmengine, mmcv\n",
      "Successfully installed addict-2.4.0 mmcv-2.0.0 mmengine-0.7.4 opencv-python-4.7.0.72 tomli-2.0.1 yapf-0.33.0\n",
      "Looking in indexes: https://pypi.tuna.tsinghua.edu.cn/simple\n",
      "Looking in links: https://download.openmmlab.com/mmcv/dist/cu113/torch1.10.0/index.html\n",
      "Requirement already satisfied: mmengine in /environment/miniconda3/lib/python3.8/site-packages (0.7.4)\n",
      "Requirement already satisfied: rich in /environment/miniconda3/lib/python3.8/site-packages (from mmengine) (13.4.2)\n",
      "Requirement already satisfied: numpy in /environment/miniconda3/lib/python3.8/site-packages (from mmengine) (1.24.1)\n",
      "Requirement already satisfied: pyyaml in /environment/miniconda3/lib/python3.8/site-packages (from mmengine) (6.0)\n",
      "Requirement already satisfied: addict in /environment/miniconda3/lib/python3.8/site-packages (from mmengine) (2.4.0)\n",
      "Requirement already satisfied: termcolor in /environment/miniconda3/lib/python3.8/site-packages (from mmengine) (2.2.0)\n",
      "Requirement already satisfied: yapf in /environment/miniconda3/lib/python3.8/site-packages (from mmengine) (0.33.0)\n",
      "Requirement already satisfied: opencv-python>=3 in /environment/miniconda3/lib/python3.8/site-packages (from mmengine) (4.7.0.72)\n",
      "Requirement already satisfied: matplotlib in /environment/miniconda3/lib/python3.8/site-packages (from mmengine) (3.7.1)\n",
      "Requirement already satisfied: pyparsing>=2.3.1 in /environment/miniconda3/lib/python3.8/site-packages (from matplotlib->mmengine) (3.0.9)\n",
      "Requirement already satisfied: cycler>=0.10 in /environment/miniconda3/lib/python3.8/site-packages (from matplotlib->mmengine) (0.11.0)\n",
      "Requirement already satisfied: python-dateutil>=2.7 in /environment/miniconda3/lib/python3.8/site-packages (from matplotlib->mmengine) (2.8.2)\n",
      "Requirement already satisfied: fonttools>=4.22.0 in /environment/miniconda3/lib/python3.8/site-packages (from matplotlib->mmengine) (4.39.2)\n",
      "Requirement already satisfied: contourpy>=1.0.1 in /environment/miniconda3/lib/python3.8/site-packages (from matplotlib->mmengine) (1.0.7)\n",
      "Requirement already satisfied: packaging>=20.0 in /environment/miniconda3/lib/python3.8/site-packages (from matplotlib->mmengine) (23.0)\n",
      "Requirement already satisfied: pillow>=6.2.0 in /environment/miniconda3/lib/python3.8/site-packages (from matplotlib->mmengine) (9.3.0)\n",
      "Requirement already satisfied: kiwisolver>=1.0.1 in /environment/miniconda3/lib/python3.8/site-packages (from matplotlib->mmengine) (1.4.4)\n",
      "Requirement already satisfied: importlib-resources>=3.2.0 in /environment/miniconda3/lib/python3.8/site-packages (from matplotlib->mmengine) (5.12.0)\n",
      "Requirement already satisfied: pygments<3.0.0,>=2.13.0 in /environment/miniconda3/lib/python3.8/site-packages (from rich->mmengine) (2.14.0)\n",
      "Requirement already satisfied: typing-extensions<5.0,>=4.0.0 in /environment/miniconda3/lib/python3.8/site-packages (from rich->mmengine) (4.5.0)\n",
      "Requirement already satisfied: markdown-it-py>=2.2.0 in /environment/miniconda3/lib/python3.8/site-packages (from rich->mmengine) (3.0.0)\n",
      "Requirement already satisfied: tomli>=2.0.1 in /environment/miniconda3/lib/python3.8/site-packages (from yapf->mmengine) (2.0.1)\n",
      "Requirement already satisfied: zipp>=3.1.0 in /environment/miniconda3/lib/python3.8/site-packages (from importlib-resources>=3.2.0->matplotlib->mmengine) (3.15.0)\n",
      "Requirement already satisfied: mdurl~=0.1 in /environment/miniconda3/lib/python3.8/site-packages (from markdown-it-py>=2.2.0->rich->mmengine) (0.1.2)\n",
      "Requirement already satisfied: six>=1.5 in /environment/miniconda3/lib/python3.8/site-packages (from python-dateutil>=2.7->matplotlib->mmengine) (1.16.0)\n"
     ]
    }
   ],
   "source": [
    "!pip3 install openmim\n",
    "!mim install 'mmcv>=2.0.0'\n",
    "!mim install 'mmengine'"
   ]
  },
  {
   "cell_type": "markdown",
   "id": "7a5136fe-fbcf-40cc-9f69-c3f40cb05115",
   "metadata": {},
   "source": [
    "## 安装MMagic"
   ]
  },
  {
   "cell_type": "code",
   "execution_count": 8,
   "id": "14d6ccd9-e012-4f5e-af82-fe611e8993a2",
   "metadata": {},
   "outputs": [],
   "source": [
    "!mim install 'mmagic'"
   ]
  },
  {
   "cell_type": "markdown",
   "id": "b73f2d19-8c83-427f-b743-793e52b89ff3",
   "metadata": {},
   "source": [
    "## 从源码安装MMagic"
   ]
  },
  {
   "cell_type": "code",
   "execution_count": 2,
   "id": "15b131cb-470e-4ff1-9009-c1b459261401",
   "metadata": {},
   "outputs": [
    {
     "name": "stdout",
     "output_type": "stream",
     "text": [
      "Cloning into 'mmagic'...\n",
      "remote: Enumerating objects: 25612, done.\u001b[K\n",
      "remote: Counting objects: 100% (3576/3576), done.\u001b[K\n",
      "remote: Compressing objects: 100% (1541/1541), done.\u001b[K\n",
      "remote: Total 25612 (delta 1993), reused 3192 (delta 1982), pack-reused 22036\u001b[K\n",
      "Receiving objects: 100% (25612/25612), 21.58 MiB | 9.79 MiB/s, done.\n",
      "Resolving deltas: 100% (17145/17145), done.\n"
     ]
    }
   ],
   "source": [
    "!rm -rf mmagic # 删除原有的 mmagic 文件夹（如有）\n",
    "\n",
    "!git clone https://github.com/open-mmlab/mmagic.git # 下载 mmagic 源代码"
   ]
  },
  {
   "cell_type": "code",
   "execution_count": 3,
   "id": "0f4d5369-2fad-4d58-9afe-503d5bb9c551",
   "metadata": {},
   "outputs": [],
   "source": [
    "import os\n",
    "os.chdir('mmagic')"
   ]
  },
  {
   "cell_type": "code",
   "execution_count": 4,
   "id": "db3fe2af-f055-46ab-aba6-1a3172db8d64",
   "metadata": {},
   "outputs": [
    {
     "name": "stdout",
     "output_type": "stream",
     "text": [
      "Looking in indexes: https://pypi.tuna.tsinghua.edu.cn/simple\n",
      "Obtaining file:///home/featurize/work/MMagic%E6%95%99%E7%A8%8B/mmagic\n",
      "  Preparing metadata (setup.py) ... \u001b[?25ldone\n",
      "\u001b[?25hRequirement already satisfied: av in /environment/miniconda3/lib/python3.8/site-packages (from mmagic==1.0.2.dev0) (10.0.0)\n",
      "Requirement already satisfied: click in /environment/miniconda3/lib/python3.8/site-packages (from mmagic==1.0.2.dev0) (7.1.2)\n",
      "Requirement already satisfied: controlnet_aux in /environment/miniconda3/lib/python3.8/site-packages (from mmagic==1.0.2.dev0) (0.0.5)\n",
      "Requirement already satisfied: diffusers>=0.12.0 in /environment/miniconda3/lib/python3.8/site-packages (from mmagic==1.0.2.dev0) (0.17.1)\n",
      "Requirement already satisfied: einops in /environment/miniconda3/lib/python3.8/site-packages (from mmagic==1.0.2.dev0) (0.6.1)\n",
      "Requirement already satisfied: face-alignment<=1.3.4 in /environment/miniconda3/lib/python3.8/site-packages (from mmagic==1.0.2.dev0) (1.3.4)\n",
      "Requirement already satisfied: facexlib in /environment/miniconda3/lib/python3.8/site-packages (from mmagic==1.0.2.dev0) (0.3.0)\n",
      "Requirement already satisfied: lmdb in /environment/miniconda3/lib/python3.8/site-packages (from mmagic==1.0.2.dev0) (1.4.1)\n",
      "Requirement already satisfied: lpips in /environment/miniconda3/lib/python3.8/site-packages (from mmagic==1.0.2.dev0) (0.1.4)\n",
      "Requirement already satisfied: mediapipe in /environment/miniconda3/lib/python3.8/site-packages (from mmagic==1.0.2.dev0) (0.10.1)\n",
      "Requirement already satisfied: numpy in /environment/miniconda3/lib/python3.8/site-packages (from mmagic==1.0.2.dev0) (1.24.1)\n",
      "Requirement already satisfied: opencv-python!=4.5.5.62,!=4.5.5.64 in /environment/miniconda3/lib/python3.8/site-packages (from mmagic==1.0.2.dev0) (4.7.0.72)\n",
      "Requirement already satisfied: pandas in /environment/miniconda3/lib/python3.8/site-packages (from mmagic==1.0.2.dev0) (1.5.3)\n",
      "Requirement already satisfied: Pillow in /environment/miniconda3/lib/python3.8/site-packages (from mmagic==1.0.2.dev0) (9.3.0)\n",
      "Requirement already satisfied: resize_right in /environment/miniconda3/lib/python3.8/site-packages (from mmagic==1.0.2.dev0) (0.0.2)\n",
      "Requirement already satisfied: tensorboard in /environment/miniconda3/lib/python3.8/site-packages (from mmagic==1.0.2.dev0) (2.11.2)\n",
      "Requirement already satisfied: transformers>=4.27.4 in /environment/miniconda3/lib/python3.8/site-packages (from mmagic==1.0.2.dev0) (4.30.1)\n",
      "Requirement already satisfied: requests in /environment/miniconda3/lib/python3.8/site-packages (from diffusers>=0.12.0->mmagic==1.0.2.dev0) (2.24.0)\n",
      "Requirement already satisfied: importlib-metadata in /environment/miniconda3/lib/python3.8/site-packages (from diffusers>=0.12.0->mmagic==1.0.2.dev0) (6.0.0)\n",
      "Requirement already satisfied: huggingface-hub>=0.13.2 in /environment/miniconda3/lib/python3.8/site-packages (from diffusers>=0.12.0->mmagic==1.0.2.dev0) (0.15.1)\n",
      "Requirement already satisfied: regex!=2019.12.17 in /environment/miniconda3/lib/python3.8/site-packages (from diffusers>=0.12.0->mmagic==1.0.2.dev0) (2022.10.31)\n",
      "Requirement already satisfied: filelock in /environment/miniconda3/lib/python3.8/site-packages (from diffusers>=0.12.0->mmagic==1.0.2.dev0) (3.9.0)\n",
      "Requirement already satisfied: scikit-image in /environment/miniconda3/lib/python3.8/site-packages (from face-alignment<=1.3.4->mmagic==1.0.2.dev0) (0.21.0)\n",
      "Requirement already satisfied: torch in /environment/miniconda3/lib/python3.8/site-packages (from face-alignment<=1.3.4->mmagic==1.0.2.dev0) (1.10.1+cu113)\n",
      "Requirement already satisfied: tqdm in /environment/miniconda3/lib/python3.8/site-packages (from face-alignment<=1.3.4->mmagic==1.0.2.dev0) (4.61.2)\n",
      "Requirement already satisfied: scipy>=0.17 in /environment/miniconda3/lib/python3.8/site-packages (from face-alignment<=1.3.4->mmagic==1.0.2.dev0) (1.10.1)\n",
      "Requirement already satisfied: numba in /environment/miniconda3/lib/python3.8/site-packages (from face-alignment<=1.3.4->mmagic==1.0.2.dev0) (0.57.0)\n",
      "Requirement already satisfied: tokenizers!=0.11.3,<0.14,>=0.11.1 in /environment/miniconda3/lib/python3.8/site-packages (from transformers>=4.27.4->mmagic==1.0.2.dev0) (0.13.2)\n",
      "Requirement already satisfied: safetensors>=0.3.1 in /environment/miniconda3/lib/python3.8/site-packages (from transformers>=4.27.4->mmagic==1.0.2.dev0) (0.3.1)\n",
      "Requirement already satisfied: pyyaml>=5.1 in /environment/miniconda3/lib/python3.8/site-packages (from transformers>=4.27.4->mmagic==1.0.2.dev0) (6.0)\n",
      "Requirement already satisfied: packaging>=20.0 in /environment/miniconda3/lib/python3.8/site-packages (from transformers>=4.27.4->mmagic==1.0.2.dev0) (23.0)\n",
      "Requirement already satisfied: timm in /environment/miniconda3/lib/python3.8/site-packages (from controlnet_aux->mmagic==1.0.2.dev0) (0.6.12)\n",
      "Requirement already satisfied: torchvision in /environment/miniconda3/lib/python3.8/site-packages (from controlnet_aux->mmagic==1.0.2.dev0) (0.11.2+cu113)\n",
      "Requirement already satisfied: filterpy in /environment/miniconda3/lib/python3.8/site-packages (from facexlib->mmagic==1.0.2.dev0) (1.4.5)\n",
      "Requirement already satisfied: opencv-contrib-python in /environment/miniconda3/lib/python3.8/site-packages (from mediapipe->mmagic==1.0.2.dev0) (4.7.0.72)\n",
      "Requirement already satisfied: matplotlib in /environment/miniconda3/lib/python3.8/site-packages (from mediapipe->mmagic==1.0.2.dev0) (3.7.1)\n",
      "Requirement already satisfied: absl-py in /environment/miniconda3/lib/python3.8/site-packages (from mediapipe->mmagic==1.0.2.dev0) (1.4.0)\n",
      "Requirement already satisfied: protobuf<4,>=3.11 in /environment/miniconda3/lib/python3.8/site-packages (from mediapipe->mmagic==1.0.2.dev0) (3.19.6)\n",
      "Requirement already satisfied: attrs>=19.1.0 in /environment/miniconda3/lib/python3.8/site-packages (from mediapipe->mmagic==1.0.2.dev0) (22.2.0)\n",
      "Requirement already satisfied: flatbuffers>=2.0 in /environment/miniconda3/lib/python3.8/site-packages (from mediapipe->mmagic==1.0.2.dev0) (23.3.3)\n",
      "Requirement already satisfied: sounddevice>=0.4.4 in /environment/miniconda3/lib/python3.8/site-packages (from mediapipe->mmagic==1.0.2.dev0) (0.4.6)\n",
      "Requirement already satisfied: pytz>=2020.1 in /environment/miniconda3/lib/python3.8/site-packages (from pandas->mmagic==1.0.2.dev0) (2022.7.1)\n",
      "Requirement already satisfied: python-dateutil>=2.8.1 in /environment/miniconda3/lib/python3.8/site-packages (from pandas->mmagic==1.0.2.dev0) (2.8.2)\n",
      "Requirement already satisfied: tensorboard-plugin-wit>=1.6.0 in /environment/miniconda3/lib/python3.8/site-packages (from tensorboard->mmagic==1.0.2.dev0) (1.8.1)\n",
      "Requirement already satisfied: google-auth-oauthlib<0.5,>=0.4.1 in /environment/miniconda3/lib/python3.8/site-packages (from tensorboard->mmagic==1.0.2.dev0) (0.4.6)\n",
      "Requirement already satisfied: tensorboard-data-server<0.7.0,>=0.6.0 in /environment/miniconda3/lib/python3.8/site-packages (from tensorboard->mmagic==1.0.2.dev0) (0.6.1)\n",
      "Requirement already satisfied: werkzeug>=1.0.1 in /environment/miniconda3/lib/python3.8/site-packages (from tensorboard->mmagic==1.0.2.dev0) (2.2.3)\n",
      "Requirement already satisfied: markdown>=2.6.8 in /environment/miniconda3/lib/python3.8/site-packages (from tensorboard->mmagic==1.0.2.dev0) (3.4.1)\n",
      "Requirement already satisfied: grpcio>=1.24.3 in /environment/miniconda3/lib/python3.8/site-packages (from tensorboard->mmagic==1.0.2.dev0) (1.51.3)\n",
      "Requirement already satisfied: setuptools>=41.0.0 in /environment/miniconda3/lib/python3.8/site-packages (from tensorboard->mmagic==1.0.2.dev0) (65.6.3)\n",
      "Requirement already satisfied: google-auth<3,>=1.6.3 in /environment/miniconda3/lib/python3.8/site-packages (from tensorboard->mmagic==1.0.2.dev0) (2.16.2)\n",
      "Requirement already satisfied: wheel>=0.26 in /environment/miniconda3/lib/python3.8/site-packages (from tensorboard->mmagic==1.0.2.dev0) (0.36.2)\n",
      "Requirement already satisfied: six>=1.9.0 in /environment/miniconda3/lib/python3.8/site-packages (from google-auth<3,>=1.6.3->tensorboard->mmagic==1.0.2.dev0) (1.16.0)\n",
      "Requirement already satisfied: pyasn1-modules>=0.2.1 in /environment/miniconda3/lib/python3.8/site-packages (from google-auth<3,>=1.6.3->tensorboard->mmagic==1.0.2.dev0) (0.2.8)\n",
      "Requirement already satisfied: cachetools<6.0,>=2.0.0 in /environment/miniconda3/lib/python3.8/site-packages (from google-auth<3,>=1.6.3->tensorboard->mmagic==1.0.2.dev0) (5.3.0)\n",
      "Requirement already satisfied: rsa<5,>=3.1.4 in /environment/miniconda3/lib/python3.8/site-packages (from google-auth<3,>=1.6.3->tensorboard->mmagic==1.0.2.dev0) (4.9)\n",
      "Requirement already satisfied: requests-oauthlib>=0.7.0 in /environment/miniconda3/lib/python3.8/site-packages (from google-auth-oauthlib<0.5,>=0.4.1->tensorboard->mmagic==1.0.2.dev0) (1.3.1)\n",
      "Requirement already satisfied: fsspec in /environment/miniconda3/lib/python3.8/site-packages (from huggingface-hub>=0.13.2->diffusers>=0.12.0->mmagic==1.0.2.dev0) (2023.6.0)\n",
      "Requirement already satisfied: typing-extensions>=3.7.4.3 in /environment/miniconda3/lib/python3.8/site-packages (from huggingface-hub>=0.13.2->diffusers>=0.12.0->mmagic==1.0.2.dev0) (4.5.0)\n",
      "Requirement already satisfied: zipp>=0.5 in /environment/miniconda3/lib/python3.8/site-packages (from importlib-metadata->diffusers>=0.12.0->mmagic==1.0.2.dev0) (3.15.0)\n",
      "Requirement already satisfied: idna<3,>=2.5 in /environment/miniconda3/lib/python3.8/site-packages (from requests->diffusers>=0.12.0->mmagic==1.0.2.dev0) (2.10)\n",
      "Requirement already satisfied: chardet<4,>=3.0.2 in /environment/miniconda3/lib/python3.8/site-packages (from requests->diffusers>=0.12.0->mmagic==1.0.2.dev0) (3.0.4)\n",
      "Requirement already satisfied: certifi>=2017.4.17 in /environment/miniconda3/lib/python3.8/site-packages (from requests->diffusers>=0.12.0->mmagic==1.0.2.dev0) (2022.12.7)\n",
      "Requirement already satisfied: urllib3!=1.25.0,!=1.25.1,<1.26,>=1.21.1 in /environment/miniconda3/lib/python3.8/site-packages (from requests->diffusers>=0.12.0->mmagic==1.0.2.dev0) (1.25.11)\n",
      "Requirement already satisfied: CFFI>=1.0 in /environment/miniconda3/lib/python3.8/site-packages (from sounddevice>=0.4.4->mediapipe->mmagic==1.0.2.dev0) (1.15.0)\n",
      "Requirement already satisfied: MarkupSafe>=2.1.1 in /environment/miniconda3/lib/python3.8/site-packages (from werkzeug>=1.0.1->tensorboard->mmagic==1.0.2.dev0) (2.1.2)\n",
      "Requirement already satisfied: fonttools>=4.22.0 in /environment/miniconda3/lib/python3.8/site-packages (from matplotlib->mediapipe->mmagic==1.0.2.dev0) (4.39.2)\n",
      "Requirement already satisfied: cycler>=0.10 in /environment/miniconda3/lib/python3.8/site-packages (from matplotlib->mediapipe->mmagic==1.0.2.dev0) (0.11.0)\n",
      "Requirement already satisfied: contourpy>=1.0.1 in /environment/miniconda3/lib/python3.8/site-packages (from matplotlib->mediapipe->mmagic==1.0.2.dev0) (1.0.7)\n",
      "Requirement already satisfied: importlib-resources>=3.2.0 in /environment/miniconda3/lib/python3.8/site-packages (from matplotlib->mediapipe->mmagic==1.0.2.dev0) (5.12.0)\n",
      "Requirement already satisfied: kiwisolver>=1.0.1 in /environment/miniconda3/lib/python3.8/site-packages (from matplotlib->mediapipe->mmagic==1.0.2.dev0) (1.4.4)\n",
      "Requirement already satisfied: pyparsing>=2.3.1 in /environment/miniconda3/lib/python3.8/site-packages (from matplotlib->mediapipe->mmagic==1.0.2.dev0) (3.0.9)\n",
      "Requirement already satisfied: llvmlite<0.41,>=0.40.0dev0 in /environment/miniconda3/lib/python3.8/site-packages (from numba->face-alignment<=1.3.4->mmagic==1.0.2.dev0) (0.40.1rc1)\n",
      "Requirement already satisfied: imageio>=2.27 in /environment/miniconda3/lib/python3.8/site-packages (from scikit-image->face-alignment<=1.3.4->mmagic==1.0.2.dev0) (2.31.1)\n",
      "Requirement already satisfied: networkx>=2.8 in /environment/miniconda3/lib/python3.8/site-packages (from scikit-image->face-alignment<=1.3.4->mmagic==1.0.2.dev0) (3.0)\n",
      "Requirement already satisfied: PyWavelets>=1.1.1 in /environment/miniconda3/lib/python3.8/site-packages (from scikit-image->face-alignment<=1.3.4->mmagic==1.0.2.dev0) (1.4.1)\n",
      "Requirement already satisfied: lazy_loader>=0.2 in /environment/miniconda3/lib/python3.8/site-packages (from scikit-image->face-alignment<=1.3.4->mmagic==1.0.2.dev0) (0.2)\n",
      "Requirement already satisfied: tifffile>=2022.8.12 in /environment/miniconda3/lib/python3.8/site-packages (from scikit-image->face-alignment<=1.3.4->mmagic==1.0.2.dev0) (2023.4.12)\n",
      "Requirement already satisfied: pycparser in /environment/miniconda3/lib/python3.8/site-packages (from CFFI>=1.0->sounddevice>=0.4.4->mediapipe->mmagic==1.0.2.dev0) (2.20)\n",
      "Requirement already satisfied: pyasn1<0.5.0,>=0.4.6 in /environment/miniconda3/lib/python3.8/site-packages (from pyasn1-modules>=0.2.1->google-auth<3,>=1.6.3->tensorboard->mmagic==1.0.2.dev0) (0.4.8)\n",
      "Requirement already satisfied: oauthlib>=3.0.0 in /environment/miniconda3/lib/python3.8/site-packages (from requests-oauthlib>=0.7.0->google-auth-oauthlib<0.5,>=0.4.1->tensorboard->mmagic==1.0.2.dev0) (3.2.2)\n",
      "Installing collected packages: mmagic\n",
      "  Running setup.py develop for mmagic\n",
      "Successfully installed mmagic-1.0.2.dev0\n"
     ]
    }
   ],
   "source": [
    "!pip3 install -e ."
   ]
  },
  {
   "cell_type": "markdown",
   "id": "fa97e1da-f245-4d32-892d-dec07a6b2c16",
   "metadata": {},
   "source": [
    "## 检查安装成功"
   ]
  },
  {
   "cell_type": "code",
   "execution_count": 4,
   "id": "424fca02-13cc-493f-8833-ec63900f02d3",
   "metadata": {},
   "outputs": [
    {
     "name": "stdout",
     "output_type": "stream",
     "text": [
      "Pytorch 版本 1.10.1+cu113\n",
      "CUDA 是否可用 True\n"
     ]
    }
   ],
   "source": [
    "# 检查 Pytorch\n",
    "import torch, torchvision\n",
    "print('Pytorch 版本', torch.__version__)\n",
    "print('CUDA 是否可用',torch.cuda.is_available())"
   ]
  },
  {
   "cell_type": "code",
   "execution_count": 5,
   "id": "96a6e738-d9d3-4e9f-a053-15bf2f29d43b",
   "metadata": {},
   "outputs": [
    {
     "name": "stdout",
     "output_type": "stream",
     "text": [
      "MMCV版本 2.0.0\n",
      "CUDA版本 11.3\n",
      "编译器版本 GCC 9.3\n"
     ]
    }
   ],
   "source": [
    "# 检查 mmcv\n",
    "import mmcv\n",
    "from mmcv.ops import get_compiling_cuda_version, get_compiler_version\n",
    "print('MMCV版本', mmcv.__version__)\n",
    "print('CUDA版本', get_compiling_cuda_version())\n",
    "print('编译器版本', get_compiler_version())"
   ]
  },
  {
   "cell_type": "code",
   "execution_count": 5,
   "id": "dae8b28c-fa1f-4911-ba27-50ed745e9679",
   "metadata": {},
   "outputs": [
    {
     "name": "stdout",
     "output_type": "stream",
     "text": [
      "MMagic版本 1.0.2dev0\n"
     ]
    }
   ],
   "source": [
    "# 检查 mmagic\n",
    "import mmagic\n",
    "print('MMagic版本', mmagic.__version__)"
   ]
  },
  {
   "cell_type": "markdown",
   "id": "6f89f196-6f70-46a5-9715-ee4755717c13",
   "metadata": {},
   "source": [
    "没有报错，即证明安装成功。"
   ]
  },
  {
   "cell_type": "markdown",
   "id": "da2a0e3b-ecf3-4a83-b754-81f6c91d153f",
   "metadata": {},
   "source": [
    "## 安装其它工具包"
   ]
  },
  {
   "cell_type": "code",
   "execution_count": 1,
   "id": "884d718c-5165-47a7-9f9c-6cbc85c7c118",
   "metadata": {},
   "outputs": [
    {
     "name": "stdout",
     "output_type": "stream",
     "text": [
      "Looking in indexes: https://pypi.tuna.tsinghua.edu.cn/simple\n",
      "Requirement already satisfied: opencv-python in /environment/miniconda3/lib/python3.8/site-packages (4.7.0.72)\n",
      "Requirement already satisfied: pillow in /environment/miniconda3/lib/python3.8/site-packages (9.3.0)\n",
      "Requirement already satisfied: matplotlib in /environment/miniconda3/lib/python3.8/site-packages (3.7.1)\n",
      "Requirement already satisfied: seaborn in /environment/miniconda3/lib/python3.8/site-packages (0.12.2)\n",
      "Requirement already satisfied: tqdm in /environment/miniconda3/lib/python3.8/site-packages (4.61.2)\n",
      "Requirement already satisfied: numpy>=1.17.3 in /environment/miniconda3/lib/python3.8/site-packages (from opencv-python) (1.24.1)\n",
      "Requirement already satisfied: pyparsing>=2.3.1 in /environment/miniconda3/lib/python3.8/site-packages (from matplotlib) (3.0.9)\n",
      "Requirement already satisfied: python-dateutil>=2.7 in /environment/miniconda3/lib/python3.8/site-packages (from matplotlib) (2.8.2)\n",
      "Requirement already satisfied: fonttools>=4.22.0 in /environment/miniconda3/lib/python3.8/site-packages (from matplotlib) (4.39.2)\n",
      "Requirement already satisfied: kiwisolver>=1.0.1 in /environment/miniconda3/lib/python3.8/site-packages (from matplotlib) (1.4.4)\n",
      "Requirement already satisfied: packaging>=20.0 in /environment/miniconda3/lib/python3.8/site-packages (from matplotlib) (23.0)\n",
      "Requirement already satisfied: contourpy>=1.0.1 in /environment/miniconda3/lib/python3.8/site-packages (from matplotlib) (1.0.7)\n",
      "Requirement already satisfied: importlib-resources>=3.2.0 in /environment/miniconda3/lib/python3.8/site-packages (from matplotlib) (5.12.0)\n",
      "Requirement already satisfied: cycler>=0.10 in /environment/miniconda3/lib/python3.8/site-packages (from matplotlib) (0.11.0)\n",
      "Requirement already satisfied: pandas>=0.25 in /environment/miniconda3/lib/python3.8/site-packages (from seaborn) (1.5.3)\n",
      "Requirement already satisfied: zipp>=3.1.0 in /environment/miniconda3/lib/python3.8/site-packages (from importlib-resources>=3.2.0->matplotlib) (3.15.0)\n",
      "Requirement already satisfied: pytz>=2020.1 in /environment/miniconda3/lib/python3.8/site-packages (from pandas>=0.25->seaborn) (2022.7.1)\n",
      "Requirement already satisfied: six>=1.5 in /environment/miniconda3/lib/python3.8/site-packages (from python-dateutil>=2.7->matplotlib) (1.16.0)\n",
      "Looking in indexes: https://pypi.tuna.tsinghua.edu.cn/simple\n",
      "Requirement already satisfied: clip in /environment/miniconda3/lib/python3.8/site-packages (0.2.0)\n",
      "Requirement already satisfied: transformers in /environment/miniconda3/lib/python3.8/site-packages (4.30.1)\n",
      "Collecting accelerate\n",
      "  Downloading https://pypi.tuna.tsinghua.edu.cn/packages/10/d3/5382aa337d3e67214003a17b06bfc07cf0334356b4e8aaf3b12b0d38c83f/accelerate-0.20.3-py3-none-any.whl (227 kB)\n",
      "\u001b[2K     \u001b[90m━━━━━━━━━━━━━━━━━━━━━━━━━━━━━━━━━━━━━━━\u001b[0m \u001b[32m227.6/227.6 kB\u001b[0m \u001b[31m1.1 MB/s\u001b[0m eta \u001b[36m0:00:00\u001b[0ma \u001b[36m0:00:01\u001b[0m\n",
      "\u001b[?25hRequirement already satisfied: tqdm>=4.27 in /environment/miniconda3/lib/python3.8/site-packages (from transformers) (4.61.2)\n",
      "Requirement already satisfied: regex!=2019.12.17 in /environment/miniconda3/lib/python3.8/site-packages (from transformers) (2022.10.31)\n",
      "Requirement already satisfied: huggingface-hub<1.0,>=0.14.1 in /environment/miniconda3/lib/python3.8/site-packages (from transformers) (0.15.1)\n",
      "Requirement already satisfied: tokenizers!=0.11.3,<0.14,>=0.11.1 in /environment/miniconda3/lib/python3.8/site-packages (from transformers) (0.13.2)\n",
      "Requirement already satisfied: packaging>=20.0 in /environment/miniconda3/lib/python3.8/site-packages (from transformers) (23.0)\n",
      "Requirement already satisfied: filelock in /environment/miniconda3/lib/python3.8/site-packages (from transformers) (3.9.0)\n",
      "Requirement already satisfied: pyyaml>=5.1 in /environment/miniconda3/lib/python3.8/site-packages (from transformers) (6.0)\n",
      "Requirement already satisfied: requests in /environment/miniconda3/lib/python3.8/site-packages (from transformers) (2.24.0)\n",
      "Requirement already satisfied: numpy>=1.17 in /environment/miniconda3/lib/python3.8/site-packages (from transformers) (1.24.1)\n",
      "Requirement already satisfied: safetensors>=0.3.1 in /environment/miniconda3/lib/python3.8/site-packages (from transformers) (0.3.1)\n",
      "Requirement already satisfied: psutil in /environment/miniconda3/lib/python3.8/site-packages (from accelerate) (5.9.4)\n",
      "Requirement already satisfied: torch>=1.6.0 in /environment/miniconda3/lib/python3.8/site-packages (from accelerate) (1.10.1+cu113)\n",
      "Requirement already satisfied: fsspec in /environment/miniconda3/lib/python3.8/site-packages (from huggingface-hub<1.0,>=0.14.1->transformers) (2023.6.0)\n",
      "Requirement already satisfied: typing-extensions>=3.7.4.3 in /environment/miniconda3/lib/python3.8/site-packages (from huggingface-hub<1.0,>=0.14.1->transformers) (4.5.0)\n",
      "Requirement already satisfied: chardet<4,>=3.0.2 in /environment/miniconda3/lib/python3.8/site-packages (from requests->transformers) (3.0.4)\n",
      "Requirement already satisfied: urllib3!=1.25.0,!=1.25.1,<1.26,>=1.21.1 in /environment/miniconda3/lib/python3.8/site-packages (from requests->transformers) (1.25.11)\n",
      "Requirement already satisfied: idna<3,>=2.5 in /environment/miniconda3/lib/python3.8/site-packages (from requests->transformers) (2.10)\n",
      "Requirement already satisfied: certifi>=2017.4.17 in /environment/miniconda3/lib/python3.8/site-packages (from requests->transformers) (2022.12.7)\n",
      "Installing collected packages: accelerate\n",
      "Successfully installed accelerate-0.20.3\n"
     ]
    }
   ],
   "source": [
    "!pip install opencv-python pillow matplotlib seaborn tqdm -i https://pypi.tuna.tsinghua.edu.cn/simple\n",
    "!pip install clip transformers gradio 'httpx[socks]' diffusers==0.14.0 -i https://pypi.tuna.tsinghua.edu.cn/simple\n",
    "!mim install 'mmdet>=3.0.0'"
   ]
  },
  {
   "cell_type": "code",
   "execution_count": null,
   "id": "4e169bd4-5830-47f2-8bb6-b8da02637eda",
   "metadata": {},
   "outputs": [],
   "source": []
  }
 ],
 "metadata": {
  "kernelspec": {
   "display_name": "Python 3 (ipykernel)",
   "language": "python",
   "name": "python3"
  },
  "language_info": {
   "codemirror_mode": {
    "name": "ipython",
    "version": 3
   },
   "file_extension": ".py",
   "mimetype": "text/x-python",
   "name": "python",
   "nbconvert_exporter": "python",
   "pygments_lexer": "ipython3",
   "version": "3.8.11"
  }
 },
 "nbformat": 4,
 "nbformat_minor": 5
}
